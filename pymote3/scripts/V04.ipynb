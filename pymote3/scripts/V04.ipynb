{
 "cells": [
  {
   "cell_type": "code",
   "execution_count": 1,
   "metadata": {},
   "outputs": [],
   "source": [
    "import sys\n",
    "sys.path\n",
    "sys.path.append('C:\\\\Users\\\\Krepana Krava\\\\Documents\\\\Winpython64-3.9.10\\\\WPy64-39100\\\\python-3.9.10.amd64\\\\src\\\\pymote339')\n",
    "sys.path.append('C:\\\\Users\\\\Krepana Krava\\\\Documents\\\\Winpython64-3.9.10\\\\WPy64-39100\\\\python-3.9.10.amd64\\\\Lib\\\\site-packages')"
   ]
  },
  {
   "cell_type": "code",
   "execution_count": 2,
   "metadata": {},
   "outputs": [],
   "source": [
    "%load_ext autoreload\n",
    "%autoreload 2\n",
    "\n",
    "%matplotlib inline"
   ]
  },
  {
   "cell_type": "code",
   "execution_count": 3,
   "metadata": {},
   "outputs": [
    {
     "name": "stdout",
     "output_type": "stream",
     "text": [
      "Environment2D\n",
      "WARNING [__init__.py]: Environment variable PYMOTE_SETTINGS_MODULE is undefined, using global_settings.\n",
      "Node 1 is placed on position [130.18980797 412.82403008].\n",
      "Node 2 is placed on position [301.65517183 331.65576577].\n",
      "Node 3 is placed on position [391.45551498 429.36425205].\n",
      "Node 4 is placed on position [415.73181797 220.16538184].\n",
      "Node 5 is placed on position [575.74726854 490.15700307].\n",
      "Node 6 is placed on position [327.33609502 187.94390444].\n",
      "Node 7 is placed on position [ 87.26259519 138.37057419].\n",
      "Node 8 is placed on position [334.1896348  565.02281748].\n",
      "Node 9 is placed on position [263.52471822 568.01574527].\n",
      "Node 10 is placed on position [  7.12353521 136.00020465].\n",
      "DEBUG   [simulation.py]: Simulation 0x18b72649400 created successfully.\n",
      "DEBUG   [simulation.py]: [Shout] Step 1 finished\n",
      "DEBUG   [simulation.py]: [Shout] Step 2 finished\n",
      "DEBUG   [simulation.py]: [Shout] Step 3 finished\n",
      "DEBUG   [simulation.py]: [Shout] Step 4 finished\n",
      "DEBUG   [simulation.py]: [Shout] Step 5 finished\n",
      "DEBUG   [simulation.py]: [Shout] Step 6 finished\n",
      "DEBUG   [simulation.py]: [Shout] Step 7 finished\n",
      "DEBUG   [simulation.py]: [Shout] Step 8 finished\n",
      "DEBUG   [simulation.py]: [Shout] Step 9 finished\n",
      "DEBUG   [simulation.py]: [Shout] Step 10 finished\n",
      "DEBUG   [simulation.py]: [Shout] Step 11 finished\n",
      "DEBUG   [simulation.py]: [Shout] Step 12 finished\n",
      "DEBUG   [simulation.py]: [Shout] Algorithm finished\n",
      "DEBUG   [simulation.py]: [Saturation] Step 1 finished\n",
      "DEBUG   [simulation.py]: [Saturation] Step 2 finished\n",
      "DEBUG   [simulation.py]: [Saturation] Step 3 finished\n",
      "DEBUG   [simulation.py]: [Saturation] Step 4 finished\n",
      "DEBUG   [simulation.py]: [Saturation] Step 5 finished\n",
      "DEBUG   [simulation.py]: [Saturation] Step 6 finished\n",
      "DEBUG   [simulation.py]: [Saturation] Step 7 finished\n",
      "DEBUG   [simulation.py]: [Saturation] Step 8 finished\n",
      "DEBUG   [simulation.py]: [Saturation] Step 9 finished\n",
      "DEBUG   [simulation.py]: [Saturation] Step 10 finished\n",
      "DEBUG   [simulation.py]: [Saturation] Step 11 finished\n",
      "DEBUG   [simulation.py]: [Saturation] Step 12 finished\n",
      "DEBUG   [simulation.py]: [Saturation] Step 13 finished\n",
      "DEBUG   [simulation.py]: [Saturation] Step 14 finished\n",
      "DEBUG   [simulation.py]: [Saturation] Step 15 finished\n",
      "DEBUG   [simulation.py]: [Saturation] Step 16 finished\n",
      "DEBUG   [simulation.py]: [Saturation] Step 17 finished\n",
      "DEBUG   [simulation.py]: [Saturation] Step 18 finished\n",
      "DEBUG   [simulation.py]: [Saturation] Algorithm finished\n",
      "INFO    [simulation.py]: Simulation has finished. There are no algorithms left to run. To run it from the start use sim.reset().\n",
      "SATURATED\n",
      "-10\n",
      "SATURATED\n",
      "-10\n",
      "SATURATED\n",
      "-10\n",
      "SATURATED\n",
      "-10\n",
      "SATURATED\n",
      "-10\n",
      "SATURATED\n",
      "-10\n",
      "SATURATED\n",
      "-10\n",
      "SATURATED\n",
      "-10\n",
      "SATURATED\n",
      "-10\n",
      "SATURATED\n",
      "-10\n"
     ]
    }
   ],
   "source": [
    "from pymote3 import NetworkGenerator\n",
    "from pymote3 import write_pickle\n",
    "from pymote3 import Simulation\n",
    "from pymote3.bmo.algorithms.shout import Shout\n",
    "from pymote3.bmo.algorithms.saturation import Saturation\n",
    "from pymote3.bmo.sensors.temperature import TemperatureSensor\n",
    "\n",
    "net_gen = NetworkGenerator(10)\n",
    "net = net_gen.generate_random_network()\n",
    "for n in net.nodes_list():\n",
    "    n.compositeSensor = ['NeighborsSensor', 'TemperatureSensor']\n",
    "    \n",
    "net.algorithms = (Shout, (Saturation, {'treeNeighborsKey': 'treeNeighbors'}))\n",
    "\n",
    "write_pickle(net, \"net.npc.gz\")\n",
    "\n",
    "sim = Simulation(net)\n",
    "sim.run()\n",
    "\n",
    "for n in net.nodes_list():\n",
    "    print(n.status)\n",
    "    print(n.memory['temp'])"
   ]
  }
 ],
 "metadata": {
  "kernelspec": {
   "display_name": "Python 3 (ipykernel)",
   "language": "python",
   "name": "python3"
  },
  "language_info": {
   "codemirror_mode": {
    "name": "ipython",
    "version": 3
   },
   "file_extension": ".py",
   "mimetype": "text/x-python",
   "name": "python",
   "nbconvert_exporter": "python",
   "pygments_lexer": "ipython3",
   "version": "3.9.10"
  }
 },
 "nbformat": 4,
 "nbformat_minor": 2
}
