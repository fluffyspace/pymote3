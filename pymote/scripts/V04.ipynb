{
 "cells": [
  {
   "cell_type": "code",
   "execution_count": null,
   "metadata": {
    "collapsed": true
   },
   "outputs": [],
   "source": [
    "%load_ext autoreload\n",
    "%autoreload 2\n",
    "\n",
    "%matplotlib inline"
   ]
  },
  {
   "cell_type": "code",
   "execution_count": null,
   "metadata": {
    "collapsed": true
   },
   "outputs": [],
   "source": [
    "from pymote import NetworkGenerator\n",
    "from pymote import write_pickle\n",
    "from pymote import Simulation\n",
    "from pymote.bmo.algorithms.shout import Shout\n",
    "from pymote.bmo.algorithms.saturation import Saturation\n",
    "\n",
    "net_gen = NetworkGenerator(10)\n",
    "net = net_gen.generate_random_network()\n",
    "for n in net.nodes():\n",
    "    n.compositeSensor = ('NeighborsSensor', 'TemperatureSensor')\n",
    "    \n",
    "net.algorithms = (Shout, (Saturation, {'treeNeighborsKey': 'treeNeighbors'}))\n",
    "\n",
    "write_pickle(net, \"net.npc.gz\")\n",
    "\n",
    "sim = Simulation(net)\n",
    "sim.run()\n",
    "\n",
    "for n in net.nodes():\n",
    "    print(n.status)\n",
    "    print(n.memory['temp'])"
   ]
  }
 ],
 "metadata": {
  "kernelspec": {
   "display_name": "Python 2",
   "language": "python",
   "name": "python2"
  },
  "language_info": {
   "codemirror_mode": {
    "name": "ipython",
    "version": 2
   },
   "file_extension": ".py",
   "mimetype": "text/x-python",
   "name": "python",
   "nbconvert_exporter": "python",
   "pygments_lexer": "ipython2",
   "version": "2.7.12"
  }
 },
 "nbformat": 4,
 "nbformat_minor": 2
}
