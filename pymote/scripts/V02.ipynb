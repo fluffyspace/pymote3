{
 "cells": [
  {
   "cell_type": "markdown",
   "metadata": {},
   "source": [
    "# Uvod u Pymote"
   ]
  },
  {
   "cell_type": "markdown",
   "metadata": {},
   "source": [
    "Cilj ove vježbe je napraviti pregled najbitnijih komponenti paketa Pymote namjenjenog simulaciji raspodijeljenih algoritama."
   ]
  },
  {
   "cell_type": "markdown",
   "metadata": {},
   "source": [
    "Za to se koristi interaktivna konzola IPython *obavezno* pokrenuta s profilom `pymote` na slijedeći način `ipython --profile=pymote` ili pokretanjem programa `ipymote` kojim se čini ista stvar. Na taj način, između ostalog, napravljen je import najvažnijih klasa i funkcija paketa Pymote te je podešen *backend* Qt za `matplotlib` paket i grafičko sučelje."
   ]
  },
  {
   "cell_type": "markdown",
   "metadata": {},
   "source": [
    "Alternativno moguće je koristiti i ovaj notebook pokretanjem jupyter-a sa `ipython notebook --profile=pymote`."
   ]
  },
  {
   "cell_type": "markdown",
   "metadata": {},
   "source": [
    "**Napomena:** promjene u instalaciji simulatora\n",
    "\n",
    "    pip install matplotlib==2.2.3\n",
    "    pip install notebook"
   ]
  },
  {
   "cell_type": "markdown",
   "metadata": {},
   "source": [
    "## Ispitivanje terena"
   ]
  },
  {
   "cell_type": "markdown",
   "metadata": {},
   "source": [
    "Na početku možemo ispitati što se nudi u paketu i kako to odgovara teoriji obrađenoj u predavanju \"Raspodijeljena računalna okruženja\".\n",
    "\n",
    "**Napomena:** programski kod u ovom dijelu vježbe primarno služi kao ilustracija osnovnih klasa koje sačinjavaju raspodijeljeno računalno okruženje te njihovih metoda i atributa i nije niti predviđeni niti preporučeni način korištenja simulatora."
   ]
  },
  {
   "cell_type": "code",
   "execution_count": 1,
   "metadata": {},
   "outputs": [
    {
     "data": {
      "image/png": "[encoded data removed]",
      "text/plain": [
       "<IPython.core.display.Image object>"
      ]
     },
     "execution_count": 1,
     "metadata": {},
     "output_type": "execute_result"
    }
   ],
   "source": [
    "from IPython.display import Image\n",
    "Image('images/entiteti_poruka.png')"
   ]
  },
  {
   "cell_type": "markdown",
   "metadata": {},
   "source": [
    "Osnovni elementi računalnog okruženja su **entiteti** i **poruke**, a dodatna struktura koja je uvedena kroz simulator i u kojoj su grupirani entiteti je **mreža**."
   ]
  },
  {
   "cell_type": "code",
   "execution_count": 2,
   "metadata": {},
   "outputs": [
    {
     "data": {
      "text/plain": [
       "['C:\\\\Users\\\\Krepana Krava\\\\Documents\\\\Winpython64-3.9.10\\\\WPy64-39100\\\\python-3.9.10.amd64\\\\src\\\\pymote39\\\\pymote\\\\scripts',\n",
       " 'C:\\\\Users\\\\Krepana Krava\\\\Documents\\\\Winpython64-3.9.10\\\\WPy64-39100\\\\python-3.9.10.amd64\\\\python39.zip',\n",
       " 'C:\\\\Users\\\\Krepana Krava\\\\Documents\\\\Winpython64-3.9.10\\\\WPy64-39100\\\\python-3.9.10.amd64\\\\DLLs',\n",
       " 'C:\\\\Users\\\\Krepana Krava\\\\Documents\\\\Winpython64-3.9.10\\\\WPy64-39100\\\\python-3.9.10.amd64\\\\lib',\n",
       " 'C:\\\\Users\\\\Krepana Krava\\\\Documents\\\\Winpython64-3.9.10\\\\WPy64-39100\\\\python-3.9.10.amd64',\n",
       " '',\n",
       " 'C:\\\\Users\\\\Krepana Krava\\\\Documents\\\\Winpython64-3.9.10\\\\WPy64-39100\\\\python-3.9.10.amd64\\\\lib\\\\site-packages',\n",
       " 'C:\\\\Users\\\\Krepana Krava\\\\Documents\\\\Winpython64-3.9.10\\\\WPy64-39100\\\\python-3.9.10.amd64\\\\lib\\\\site-packages\\\\win32',\n",
       " 'C:\\\\Users\\\\Krepana Krava\\\\Documents\\\\Winpython64-3.9.10\\\\WPy64-39100\\\\python-3.9.10.amd64\\\\lib\\\\site-packages\\\\win32\\\\lib',\n",
       " 'C:\\\\Users\\\\Krepana Krava\\\\Documents\\\\Winpython64-3.9.10\\\\WPy64-39100\\\\python-3.9.10.amd64\\\\lib\\\\site-packages\\\\Pythonwin',\n",
       " 'C:\\\\Users\\\\Krepana Krava\\\\Documents\\\\Winpython64-3.9.10\\\\WPy64-39100\\\\python-3.9.10.amd64\\\\lib\\\\site-packages\\\\IPython\\\\extensions',\n",
       " 'C:\\\\Users\\\\Krepana Krava\\\\.ipython']"
      ]
     },
     "execution_count": 2,
     "metadata": {},
     "output_type": "execute_result"
    }
   ],
   "source": [
    "import sys\n",
    "sys.path"
   ]
  },
  {
   "cell_type": "code",
   "execution_count": 3,
   "metadata": {},
   "outputs": [],
   "source": [
    "sys.path.append('C:\\\\Users\\\\Krepana Krava\\\\Documents\\\\Winpython64-3.9.10\\\\WPy64-39100\\\\python-3.9.10.amd64\\\\src\\\\pymote39')\n",
    "sys.path.append('C:\\\\Users\\\\Krepana Krava\\\\Documents\\\\Winpython64-3.9.10\\\\WPy64-39100\\\\python-3.9.10.amd64\\\\Lib\\\\site-packages')"
   ]
  },
  {
   "cell_type": "code",
   "execution_count": 4,
   "metadata": {},
   "outputs": [
    {
     "name": "stdout",
     "output_type": "stream",
     "text": [
      "3.9.10 (tags/v3.9.10:f2f3f53, Jan 17 2022, 15:14:21) [MSC v.1929 64 bit (AMD64)]\n"
     ]
    }
   ],
   "source": [
    "print(sys.version)\n"
   ]
  },
  {
   "cell_type": "markdown",
   "metadata": {},
   "source": [
    "### Entiteti"
   ]
  },
  {
   "cell_type": "markdown",
   "metadata": {},
   "source": [
    "Entiteti se u simulatoru nazivaju **čvorovi** i predstavljeni su instancama klase `Node`."
   ]
  },
  {
   "cell_type": "code",
   "execution_count": 5,
   "metadata": {},
   "outputs": [
    {
     "name": "stdout",
     "output_type": "stream",
     "text": [
      "WARNING [__init__.py]: Environment variable PYMOTE_SETTINGS_MODULE is undefined, using global_settings.\n"
     ]
    }
   ],
   "source": [
    "# wildcard import se inače ne preporuča koristiti no kako je cilj upoznati sve komponente paketa u ovom kontekstu je to u redu\n",
    "from pymote import *\n",
    "\n",
    "node = Node()"
   ]
  },
  {
   "cell_type": "markdown",
   "metadata": {},
   "source": [
    "Memorija $M_x$ čvora $x$ je implementirana kroz atribut `memory`, a koji je običan python `dict` te omogućava osnovnu predviđenu funkcionalnost: spremanje proizvoljnih informacija odnosno podataka u pojedine registre odnosno ključeve."
   ]
  },
  {
   "cell_type": "code",
   "execution_count": 6,
   "metadata": {},
   "outputs": [
    {
     "data": {
      "text/plain": [
       "{}"
      ]
     },
     "execution_count": 6,
     "metadata": {},
     "output_type": "execute_result"
    }
   ],
   "source": [
    "node.memory"
   ]
  },
  {
   "cell_type": "markdown",
   "metadata": {},
   "source": [
    "Jedan od posebnih registara je u simulatoru izdvojen iz memorije, a to je statusni registar $\\text{status}(x) \\in \\mathcal{S}$ i to je prema tipu podataka običan `string`."
   ]
  },
  {
   "cell_type": "code",
   "execution_count": 7,
   "metadata": {},
   "outputs": [],
   "source": [
    "node.status = \"\""
   ]
  },
  {
   "cell_type": "markdown",
   "metadata": {},
   "source": [
    "Čvoru je prilikom instanciranja dodjeljen jedinstveni identifikacijski broj ili `id`:"
   ]
  },
  {
   "cell_type": "code",
   "execution_count": 8,
   "metadata": {},
   "outputs": [
    {
     "data": {
      "text/plain": [
       "1"
      ]
     },
     "execution_count": 8,
     "metadata": {},
     "output_type": "execute_result"
    }
   ],
   "source": [
    "node.id"
   ]
  },
  {
   "cell_type": "markdown",
   "metadata": {},
   "source": [
    "Čvor ima posebne atribute `inbox` i `outbox` koji se koriste za primitak i slanje poruka, trenutno su prazni."
   ]
  },
  {
   "cell_type": "code",
   "execution_count": 9,
   "metadata": {},
   "outputs": [
    {
     "name": "stdout",
     "output_type": "stream",
     "text": [
      "[]\n",
      "[]\n"
     ]
    }
   ],
   "source": [
    "print(node.inbox)\n",
    "print(node.outbox)"
   ]
  },
  {
   "cell_type": "markdown",
   "metadata": {},
   "source": [
    "U pythonu, instance i njihovi atributi i metode se mogu dohvatiti funkcijom `dir` (introspekcija). Više informacija se može pronaći u dokumentaciji paketa, a ponekad i sam izvorni kôd jasno otkriva svrhu pojedine metode. "
   ]
  },
  {
   "cell_type": "code",
   "execution_count": 10,
   "metadata": {},
   "outputs": [],
   "source": [
    "#node.reset??"
   ]
  },
  {
   "cell_type": "markdown",
   "metadata": {},
   "source": [
    "Čvor trenutno nije dio nijedne mreže. Indikacija toga je što atribut `network` nije postavljen:"
   ]
  },
  {
   "cell_type": "code",
   "execution_count": 11,
   "metadata": {},
   "outputs": [
    {
     "data": {
      "text/plain": [
       "True"
      ]
     },
     "execution_count": 11,
     "metadata": {},
     "output_type": "execute_result"
    }
   ],
   "source": [
    "node.network is None"
   ]
  },
  {
   "cell_type": "markdown",
   "metadata": {},
   "source": [
    "### Mreža"
   ]
  },
  {
   "cell_type": "markdown",
   "metadata": {},
   "source": [
    "Stvorimo praznu mrežu te možemo dodati ranije stvoreni čvor u nju."
   ]
  },
  {
   "cell_type": "code",
   "execution_count": 12,
   "metadata": {},
   "outputs": [],
   "source": [
    "net = Network()"
   ]
  },
  {
   "cell_type": "code",
   "execution_count": 13,
   "metadata": {},
   "outputs": [],
   "source": [
    "from networkx import Graph"
   ]
  },
  {
   "cell_type": "code",
   "execution_count": 14,
   "metadata": {
    "slideshow": {
     "slide_type": "fragment"
    }
   },
   "outputs": [],
   "source": [
    "#Graph.add_node()\n",
    "#print(Graph.nodes(data=False))"
   ]
  },
  {
   "cell_type": "code",
   "execution_count": 15,
   "metadata": {},
   "outputs": [
    {
     "name": "stdout",
     "output_type": "stream",
     "text": [
      "Node 1 is placed on position [216.60402268 517.66114164].\n"
     ]
    },
    {
     "data": {
      "text/plain": [
       "<Node id=1>"
      ]
     },
     "execution_count": 15,
     "metadata": {},
     "output_type": "execute_result"
    }
   ],
   "source": [
    "net.add_node(node)"
   ]
  },
  {
   "cell_type": "markdown",
   "metadata": {},
   "source": [
    "Sada čvor ima postavljen atribut `network`:"
   ]
  },
  {
   "cell_type": "code",
   "execution_count": 16,
   "metadata": {},
   "outputs": [
    {
     "data": {
      "text/plain": [
       "<pymote.network.Network at 0x1d6b6bff880>"
      ]
     },
     "execution_count": 16,
     "metadata": {},
     "output_type": "execute_result"
    }
   ],
   "source": [
    "node.network"
   ]
  },
  {
   "cell_type": "markdown",
   "metadata": {},
   "source": [
    "Veza je dvosmjerna, odnosno i mreža 'zna' koji čvorovi su dio mreže:"
   ]
  },
  {
   "cell_type": "code",
   "execution_count": 17,
   "metadata": {},
   "outputs": [
    {
     "data": {
      "text/plain": [
       "NodeView((<Node id=1>,))"
      ]
     },
     "execution_count": 17,
     "metadata": {},
     "output_type": "execute_result"
    }
   ],
   "source": [
    "net.nodes()"
   ]
  },
  {
   "cell_type": "markdown",
   "metadata": {},
   "source": [
    "Ako ne specificiramo čvor koji se dodaje, metoda sama stvara novi."
   ]
  },
  {
   "cell_type": "code",
   "execution_count": 18,
   "metadata": {},
   "outputs": [
    {
     "name": "stdout",
     "output_type": "stream",
     "text": [
      "Node 2 is placed on position [ 52.68119027 158.87003176].\n"
     ]
    },
    {
     "data": {
      "text/plain": [
       "<Node id=2>"
      ]
     },
     "execution_count": 18,
     "metadata": {},
     "output_type": "execute_result"
    }
   ],
   "source": [
    "net.add_node()"
   ]
  },
  {
   "cell_type": "code",
   "execution_count": 19,
   "metadata": {},
   "outputs": [
    {
     "data": {
      "text/plain": [
       "NodeView((<Node id=1>, <Node id=2>))"
      ]
     },
     "execution_count": 19,
     "metadata": {},
     "output_type": "execute_result"
    }
   ],
   "source": [
    "net.nodes()"
   ]
  },
  {
   "cell_type": "markdown",
   "metadata": {},
   "source": [
    "U metodi `add_node` može se specificirati i pozicija čvora no ako ona nije specificirana dodijeljuju se nasumično odabrane pozicije (lokacija i orijentacija). Trenutno dodjeljene lokacije mogu se pronaći u atributu `pos`, a orijentacije u atributu `ori`:"
   ]
  },
  {
   "cell_type": "code",
   "execution_count": 20,
   "metadata": {},
   "outputs": [
    {
     "data": {
      "text/plain": [
       "{<Node id=1>: array([216.60402268, 517.66114164]),\n",
       " <Node id=2>: array([ 52.68119027, 158.87003176])}"
      ]
     },
     "execution_count": 20,
     "metadata": {},
     "output_type": "execute_result"
    }
   ],
   "source": [
    "net.pos"
   ]
  },
  {
   "cell_type": "code",
   "execution_count": 21,
   "metadata": {},
   "outputs": [
    {
     "data": {
      "text/plain": [
       "{<Node id=1>: 3.142573232983901, <Node id=2>: 4.056114431323393}"
      ]
     },
     "execution_count": 21,
     "metadata": {},
     "output_type": "execute_result"
    }
   ],
   "source": [
    "net.ori"
   ]
  },
  {
   "cell_type": "markdown",
   "metadata": {},
   "source": [
    "Pozicije se biraju unutar *default*nog okruženja mreže odnosno 2D prostora veličine 600x600 koji je specificiran atributom `environment`."
   ]
  },
  {
   "cell_type": "code",
   "execution_count": 22,
   "metadata": {},
   "outputs": [
    {
     "data": {
      "text/plain": [
       "<pymote.environment.Environment2D at 0x1d6b6bff760>"
      ]
     },
     "execution_count": 22,
     "metadata": {},
     "output_type": "execute_result"
    }
   ],
   "source": [
    "net.environment"
   ]
  },
  {
   "cell_type": "markdown",
   "metadata": {},
   "source": [
    "U slučaju 2D environmenta to je numpy 2d polje U kojem je sa 255 predstavljen prazan prostor, a sa vrijednostima manjim od 255 prepreke."
   ]
  },
  {
   "cell_type": "code",
   "execution_count": 23,
   "metadata": {},
   "outputs": [
    {
     "data": {
      "text/plain": [
       "array([[255, 255, 255, ..., 255, 255, 255],\n",
       "       [255, 255, 255, ..., 255, 255, 255],\n",
       "       [255, 255, 255, ..., 255, 255, 255],\n",
       "       ...,\n",
       "       [255, 255, 255, ..., 255, 255, 255],\n",
       "       [255, 255, 255, ..., 255, 255, 255],\n",
       "       [255, 255, 255, ..., 255, 255, 255]], dtype=uint8)"
      ]
     },
     "execution_count": 23,
     "metadata": {},
     "output_type": "execute_result"
    }
   ],
   "source": [
    "net.environment.im"
   ]
  },
  {
   "cell_type": "code",
   "execution_count": 24,
   "metadata": {},
   "outputs": [
    {
     "data": {
      "text/plain": [
       "(600, 600)"
      ]
     },
     "execution_count": 24,
     "metadata": {},
     "output_type": "execute_result"
    }
   ],
   "source": [
    "net.environment.im.shape"
   ]
  },
  {
   "cell_type": "code",
   "execution_count": 25,
   "metadata": {},
   "outputs": [],
   "source": [
    "# podrska za iscrtavanje izravno u notebooku\n",
    "%matplotlib inline"
   ]
  },
  {
   "cell_type": "code",
   "execution_count": 26,
   "metadata": {
    "scrolled": false
   },
   "outputs": [
    {
     "name": "stderr",
     "output_type": "stream",
     "text": [
      "C:\\Users\\Krepana Krava\\Documents\\Winpython64-3.9.10\\WPy64-39100\\python-3.9.10.amd64\\src\\pymote39\\pymote\\network.py:206: UserWarning: Matplotlib is currently using module://matplotlib_inline.backend_inline, which is a non-GUI backend, so cannot show the figure.\n",
      "  fig.show()\n"
     ]
    },
    {
     "data": {
      "image/png": "[encoded data removed]",
      "text/plain": [
       "<Figure size 600x600 with 1 Axes>"
      ]
     },
     "metadata": {},
     "output_type": "display_data"
    }
   ],
   "source": [
    "net.show()"
   ]
  },
  {
   "cell_type": "markdown",
   "metadata": {},
   "source": [
    "Ukoliko čvorovi nisu povezani to je zbog ograničenog komunikacijskog dometa svakog od njih."
   ]
  },
  {
   "cell_type": "code",
   "execution_count": 27,
   "metadata": {},
   "outputs": [
    {
     "data": {
      "text/plain": [
       "100"
      ]
     },
     "execution_count": 27,
     "metadata": {},
     "output_type": "execute_result"
    }
   ],
   "source": [
    "node.commRange"
   ]
  },
  {
   "cell_type": "code",
   "execution_count": 28,
   "metadata": {},
   "outputs": [],
   "source": [
    "for node in net.nodes():\n",
    "    node.commRange = 600\n",
    "net.recalculate_edges()"
   ]
  },
  {
   "cell_type": "markdown",
   "metadata": {},
   "source": [
    "Sa povećanim dometom trebali bi dobiti brid u grafu odnosno mogućnost komunikacije."
   ]
  },
  {
   "cell_type": "code",
   "execution_count": 29,
   "metadata": {},
   "outputs": [
    {
     "data": {
      "image/png": "[encoded data removed]",
      "text/plain": [
       "<Figure size 600x600 with 1 Axes>"
      ]
     },
     "metadata": {},
     "output_type": "display_data"
    }
   ],
   "source": [
    "net.show()"
   ]
  },
  {
   "cell_type": "markdown",
   "metadata": {},
   "source": [
    "### Poruke"
   ]
  },
  {
   "cell_type": "markdown",
   "metadata": {},
   "source": [
    "Poruke u raspodijeljenom računalnom okruženju su po definiciji nizovi bitova koji su u simulatoru predstavljeni kao intance klase `Message`."
   ]
  },
  {
   "cell_type": "code",
   "execution_count": 30,
   "metadata": {},
   "outputs": [],
   "source": [
    "from pymote.message import Message\n",
    "message = Message()"
   ]
  },
  {
   "cell_type": "code",
   "execution_count": 31,
   "metadata": {},
   "outputs": [
    {
     "data": {
      "text/plain": [
       "\n",
       "------ Message ------ \n",
       "     source = None \n",
       "destination = Broadcasted \n",
       "     header = '' \n",
       "id(message) = 0x1d6b7fc6b80>"
      ]
     },
     "execution_count": 31,
     "metadata": {},
     "output_type": "execute_result"
    }
   ],
   "source": [
    "message"
   ]
  },
  {
   "cell_type": "markdown",
   "metadata": {},
   "source": [
    "Za slanje poruke koristi se metoda `send`:"
   ]
  },
  {
   "cell_type": "code",
   "execution_count": 32,
   "metadata": {},
   "outputs": [],
   "source": [
    "node.send(message)"
   ]
  },
  {
   "cell_type": "markdown",
   "metadata": {},
   "source": [
    "Metoda `send` je poruku prebacila u outbox listu čvora."
   ]
  },
  {
   "cell_type": "code",
   "execution_count": 33,
   "metadata": {},
   "outputs": [
    {
     "data": {
      "text/plain": [
       "[\n",
       " ------ Message ------ \n",
       "      source = <Node id=2> \n",
       " destination = Broadcasted \n",
       "      header = '' \n",
       " id(message) = 0x1d6b7fc1160>]"
      ]
     },
     "execution_count": 33,
     "metadata": {},
     "output_type": "execute_result"
    }
   ],
   "source": [
    "node.outbox"
   ]
  },
  {
   "cell_type": "markdown",
   "metadata": {},
   "source": [
    "Primijetite kako su podaci zapisani u poruku samim izvršenjem metode `send` osvježeni. Preciznije u ovom slučaju polje `source` je poprimilo odgovarajuću vrijednost."
   ]
  },
  {
   "cell_type": "code",
   "execution_count": 34,
   "metadata": {},
   "outputs": [],
   "source": [
    "net.communicate()"
   ]
  },
  {
   "cell_type": "markdown",
   "metadata": {},
   "source": [
    "Sam čin komunikacije odnosno prebacivanja svih poruka iz polaznih u odredišne čvorove (susjede) je pod kontrolom mreže i obavlja se njenom metodom `communicate`. Ovaj dio se obično odvija automatizmom u svakom koraku simulacije, no o tome više u daljnjem tekstu.\n",
    "\n",
    "Mreža, u ovisnosti o ograničenjima, može poruku ili zadržati određeni broj koraka ili isporučiti odmah u slijedećem koraku što je i *default* ponašanje."
   ]
  },
  {
   "cell_type": "markdown",
   "metadata": {},
   "source": [
    "Poruka više nije u `outbox`-u polazišnog čvora:"
   ]
  },
  {
   "cell_type": "code",
   "execution_count": 35,
   "metadata": {},
   "outputs": [
    {
     "data": {
      "text/plain": [
       "[]"
      ]
     },
     "execution_count": 35,
     "metadata": {},
     "output_type": "execute_result"
    }
   ],
   "source": [
    "node.outbox"
   ]
  },
  {
   "cell_type": "markdown",
   "metadata": {},
   "source": [
    "Nalazi se u `inbox`-u odredišnog čvora ili čvorova:"
   ]
  },
  {
   "cell_type": "code",
   "execution_count": 36,
   "metadata": {},
   "outputs": [
    {
     "ename": "KeyError",
     "evalue": "0",
     "output_type": "error",
     "traceback": [
      "\u001b[1;31m---------------------------------------------------------------------------\u001b[0m",
      "\u001b[1;31mKeyError\u001b[0m                                  Traceback (most recent call last)",
      "\u001b[1;32m~\\AppData\\Local\\Temp\\ipykernel_3800\\2574338748.py\u001b[0m in \u001b[0;36m<module>\u001b[1;34m\u001b[0m\n\u001b[1;32m----> 1\u001b[1;33m \u001b[0mother_node\u001b[0m \u001b[1;33m=\u001b[0m \u001b[0mnet\u001b[0m\u001b[1;33m.\u001b[0m\u001b[0mnodes\u001b[0m\u001b[1;33m(\u001b[0m\u001b[1;33m)\u001b[0m\u001b[1;33m[\u001b[0m\u001b[1;36m0\u001b[0m\u001b[1;33m]\u001b[0m\u001b[1;33m\u001b[0m\u001b[1;33m\u001b[0m\u001b[0m\n\u001b[0m",
      "\u001b[1;32m~\\Documents\\Winpython64-3.9.10\\WPy64-39100\\python-3.9.10.amd64\\lib\\site-packages\\networkx\\classes\\reportviews.py\u001b[0m in \u001b[0;36m__getitem__\u001b[1;34m(self, n)\u001b[0m\n\u001b[0;32m    191\u001b[0m                 \u001b[1;34mf\"try list(G.nodes)[{n.start}:{n.stop}:{n.step}]\"\u001b[0m\u001b[1;33m\u001b[0m\u001b[1;33m\u001b[0m\u001b[0m\n\u001b[0;32m    192\u001b[0m             )\n\u001b[1;32m--> 193\u001b[1;33m         \u001b[1;32mreturn\u001b[0m \u001b[0mself\u001b[0m\u001b[1;33m.\u001b[0m\u001b[0m_nodes\u001b[0m\u001b[1;33m[\u001b[0m\u001b[0mn\u001b[0m\u001b[1;33m]\u001b[0m\u001b[1;33m\u001b[0m\u001b[1;33m\u001b[0m\u001b[0m\n\u001b[0m\u001b[0;32m    194\u001b[0m \u001b[1;33m\u001b[0m\u001b[0m\n\u001b[0;32m    195\u001b[0m     \u001b[1;31m# Set methods\u001b[0m\u001b[1;33m\u001b[0m\u001b[1;33m\u001b[0m\u001b[0m\n",
      "\u001b[1;31mKeyError\u001b[0m: 0"
     ]
    }
   ],
   "source": [
    "other_node = net.nodes()[0]"
   ]
  },
  {
   "cell_type": "code",
   "execution_count": null,
   "metadata": {},
   "outputs": [],
   "source": [
    "other_node.inbox"
   ]
  },
  {
   "cell_type": "markdown",
   "metadata": {},
   "source": [
    "## 'Hello distributed world'"
   ]
  },
  {
   "cell_type": "markdown",
   "metadata": {},
   "source": [
    "U ovom primjeru analiziramo implementaciju jednog od najjednostavnijih algoritama pod imenom `Flood`, a koji riješava problem *Broadcast*. Cilj algoritma je podijeliti informaciju koju posjeduje jedan čvor ostalim čvorovima u mreži."
   ]
  },
  {
   "cell_type": "markdown",
   "metadata": {},
   "source": [
    "### Kreiranje mreže"
   ]
  },
  {
   "cell_type": "markdown",
   "metadata": {},
   "source": [
    "Mreža kao osnovna struktura može se kreirati na više načina. U većini slučajeva sasvim dovoljno je koristiti klasu `NetworkGenerator` kojoj se prilikom instanciranja pridruže željeni parametri kao što su broj čvorova (točan, maksimalan, minimalan) prosječan broj susjeda itd... \n",
    "\n",
    "U ovom primjeru jedini parametar koji se želi imati pod kontrolom je broj čvorova, a iznosi 100:"
   ]
  },
  {
   "cell_type": "code",
   "execution_count": null,
   "metadata": {},
   "outputs": [],
   "source": [
    "net_gen = NetworkGenerator(100)"
   ]
  },
  {
   "cell_type": "markdown",
   "metadata": {},
   "source": [
    "Za detaljan opis opcija pogledati pymote dokumentaciju za klasu [NetworkGenerator](https://pymote.readthedocs.org/en/latest/reference/networkgenerator.html)."
   ]
  },
  {
   "cell_type": "markdown",
   "metadata": {},
   "source": [
    "Nakon toga možemo koristiti metode generatora kako bi izradili nove mreže s željenim parametrima, primjerice za nasumičan raspored čvorova koristi se metoda `generate_random_network()`:"
   ]
  },
  {
   "cell_type": "code",
   "execution_count": null,
   "metadata": {},
   "outputs": [],
   "source": [
    "net = net_gen.generate_random_network()"
   ]
  },
  {
   "cell_type": "markdown",
   "metadata": {},
   "source": [
    "Metoda kao rezultat vraća željenu mrežu odnosno instancu klase `Network`:"
   ]
  },
  {
   "cell_type": "code",
   "execution_count": null,
   "metadata": {},
   "outputs": [],
   "source": [
    "net.show()"
   ]
  },
  {
   "cell_type": "markdown",
   "metadata": {},
   "source": [
    "### Algoritam\n",
    "\n",
    "Algoritam `Flood` dio je modula `broadcast` te ukoliko ga želimo koristiti moramo ga uvesti:"
   ]
  },
  {
   "cell_type": "code",
   "execution_count": null,
   "metadata": {},
   "outputs": [],
   "source": [
    "from pymote.algorithms.broadcast import Flood"
   ]
  },
  {
   "cell_type": "markdown",
   "metadata": {},
   "source": [
    "i pridružiti mreži:"
   ]
  },
  {
   "cell_type": "code",
   "execution_count": null,
   "metadata": {},
   "outputs": [],
   "source": [
    "net.algorithms = ( (Flood, {'informationKey': 'I'}), )"
   ]
  },
  {
   "cell_type": "markdown",
   "metadata": {},
   "source": [
    "Kod pridruživanja algoritama mreži potrebno je primjetiti nekoliko stvari:\n",
    "\n",
    "* pojedini algoritam je torka odn. `tuple` od dva elementa u kojem je prvi klasa algoritma, u ovom slučaju `Flood`, a drugi je `dict` koji se sastoji od parametara\n",
    "    * npr. `Flood` prima kao obavezni parametar ključ pod kojim će čvorovi u svojoj memoriji spremati informaciju koja se želi podijeliti\n",
    "* algoritmi se pridružuju kao elementi torke, a kako u ovom primjeru se pridružuje samo jedan algoritam potrebno je iza njega dodati zarez kako bi Python stvorio torku od jednog elementa\n",
    "    * primjerice `(1)` je `int`, ali `(1, )` je `tuple`"
   ]
  },
  {
   "cell_type": "markdown",
   "metadata": {},
   "source": [
    "Algoritam zahtijeva postojanje barem jednog čvora koji ima informaciju, odn. inicijatora. Kako bi to bilo osigurano jednom od čvorova se ta informacija treba upisati u memoriju prije pokretanja samog algoritma:"
   ]
  },
  {
   "cell_type": "code",
   "execution_count": null,
   "metadata": {},
   "outputs": [],
   "source": [
    "some_node = net.nodes()[0]                         # uzimamo prvi čvor u listi čvorova mreže\n",
    "some_node.memory['I'] = 'Hello distributed world'  # pod ključem 'I' upisujemo informaciju"
   ]
  },
  {
   "cell_type": "markdown",
   "metadata": {},
   "source": [
    "### Simulacija\n",
    "\n",
    "Nakon definicije mreže i pridruživanja algoritma potrebno je pokrenuti simulaciju. Simulaciji se pri instanciranju kao argument šalje mreža nad kojom se želi obaviti simulacija:"
   ]
  },
  {
   "cell_type": "code",
   "execution_count": null,
   "metadata": {},
   "outputs": [],
   "source": [
    "sim = Simulation(net)"
   ]
  },
  {
   "cell_type": "markdown",
   "metadata": {},
   "source": [
    "Ostaje još samo i pokrenuti simulaciju:"
   ]
  },
  {
   "cell_type": "code",
   "execution_count": null,
   "metadata": {},
   "outputs": [],
   "source": [
    "sim.run()"
   ]
  },
  {
   "cell_type": "markdown",
   "metadata": {},
   "source": [
    "Nakon što je završilo izvršavanje algoritama pogledajmo ako je informacija uspješno podijeljena tako što ćemo ispisati sadržaj memorije čvorova:"
   ]
  },
  {
   "cell_type": "code",
   "execution_count": null,
   "metadata": {},
   "outputs": [],
   "source": [
    "for node in net.nodes():\n",
    "    print node.id, node.memory['I']"
   ]
  },
  {
   "cell_type": "markdown",
   "metadata": {},
   "source": [
    "Kako bi tijekom izvršavanja simulacije informacija o stanju u kojem se nalazi mreža bila potpuna prati se i trenutno stanje algoritma:"
   ]
  },
  {
   "cell_type": "code",
   "execution_count": null,
   "metadata": {},
   "outputs": [],
   "source": [
    "net.algorithmState"
   ]
  },
  {
   "cell_type": "markdown",
   "metadata": {},
   "source": [
    "U ovom slučaju algoritam pod indeksom 0 odnosno `Flood` je završio (`'finished': True`), uz navedeni trenutni broj koraka `step`."
   ]
  },
  {
   "cell_type": "markdown",
   "metadata": {},
   "source": [
    "Ako se želi ponovno pokrenuti simulacija potrebno ju je resetirati:"
   ]
  },
  {
   "cell_type": "code",
   "execution_count": null,
   "metadata": {},
   "outputs": [],
   "source": [
    "sim.reset()"
   ]
  },
  {
   "cell_type": "markdown",
   "metadata": {},
   "source": [
    "čime se:\n",
    "\n",
    "* stanje algoritama mreže postavlja na početno:"
   ]
  },
  {
   "cell_type": "code",
   "execution_count": null,
   "metadata": {},
   "outputs": [],
   "source": [
    "net.algorithmState"
   ]
  },
  {
   "cell_type": "markdown",
   "metadata": {},
   "source": [
    "* te se uz to briše i sva memorija čvorova:"
   ]
  },
  {
   "cell_type": "code",
   "execution_count": null,
   "metadata": {},
   "outputs": [],
   "source": [
    "for node in net.nodes():\n",
    "    print node.memory,"
   ]
  },
  {
   "cell_type": "code",
   "execution_count": null,
   "metadata": {},
   "outputs": [],
   "source": [
    "some_node.memory['I'] = 'Hello again'\n",
    "sim.run()"
   ]
  },
  {
   "cell_type": "markdown",
   "metadata": {},
   "source": [
    "## Analiza algoritma\n",
    "\n",
    "Algoritam *Flood* je vrlo jednostavan i u cijelosti je definiran na slijedeći način:\n",
    "\n",
    "$initiator \\times \\iota \\longrightarrow \\text{Process}(I);\\; {\\bf\\text{send}}(I) \\to N(x);\\; {\\bf\\text{become}}\\; \\text{done}$\n",
    "\n",
    "$idle \\times \\text{Receiving}(I) \\longrightarrow \\text{Process}(I);\\; {\\bf\\text{send}}(I) \\to N(x) - {\\bf\\text{sender}};\\; {\\bf\\text{become}}\\; \\text{done}$"
   ]
  },
  {
   "cell_type": "markdown",
   "metadata": {},
   "source": [
    "Pogledajmo kod za modul `pymote.algorithms.broadcast` u kojem se nalazi algoritam `Flood`:"
   ]
  },
  {
   "cell_type": "code",
   "execution_count": null,
   "metadata": {},
   "outputs": [],
   "source": [
    "from pymote.algorithm import NodeAlgorithm\n",
    "from pymote.message import Message\n",
    "\n",
    "\n",
    "\n",
    "class Flood(NodeAlgorithm):\n",
    "    required_params = ('informationKey', )\n",
    "    default_params = {'neighborsKey': 'Neighbors'}\n",
    "\n",
    "    def initializer(self):\n",
    "        ini_nodes = []\n",
    "        for node in self.network.nodes():\n",
    "            node.memory[self.neighborsKey] = node.compositeSensor.read()['Neighbors']\n",
    "            node.status = 'IDLE'\n",
    "            \n",
    "            if node.memory.has_key(self.informationKey):\n",
    "                node.status = 'INITIATOR'\n",
    "                ini_nodes.append(node)\n",
    "                \n",
    "        for ini_node in ini_nodes:\n",
    "            self.network.outbox.insert(0, Message(\n",
    "                header=NodeAlgorithm.INI,\n",
    "                destination=ini_node\n",
    "            ))\n",
    "\n",
    "    def initiator(self, node, message):\n",
    "        if message.header == NodeAlgorithm.INI:\n",
    "            node.send(Message(\n",
    "                header='Information',  # default destination: send to every neighbor\n",
    "                data=node.memory[self.informationKey]\n",
    "            ))\n",
    "            node.status = 'DONE'\n",
    "\n",
    "    def idle(self, node, message):\n",
    "        if message.header == 'Information':\n",
    "            node.memory[self.informationKey] = message.data\n",
    "            destination_nodes = list(node.memory[self.neighborsKey])\n",
    "            destination_nodes.remove(message.source)  # send to every neighbor-sender\n",
    "            \n",
    "            if destination_nodes:\n",
    "                node.send(Message(\n",
    "                    destination=destination_nodes,\n",
    "                    header='Information',\n",
    "                    data=message.data\n",
    "                ))\n",
    "                \n",
    "        node.status = 'DONE'\n",
    "\n",
    "    def done(self, node, message):\n",
    "        pass\n",
    "\n",
    "    STATUS = {\n",
    "        'INITIATOR': initiator,\n",
    "        'IDLE': idle,\n",
    "        'DONE': done,\n",
    "    }"
   ]
  },
  {
   "cell_type": "markdown",
   "metadata": {},
   "source": [
    "## Osnovne komponente\n",
    "\n",
    "U ovom dijelu opisane su osnovne komponente Pymote paketa te njihov međusoban odnos."
   ]
  },
  {
   "cell_type": "code",
   "execution_count": null,
   "metadata": {},
   "outputs": [],
   "source": [
    "from IPython.display import Image\n",
    "Image(filename='images/pymote_class_diagram.png')"
   ]
  },
  {
   "cell_type": "markdown",
   "metadata": {},
   "source": [
    "### Graf\n",
    "\n",
    "Pymote paket se zasniva djelomično na proširenju mogućnosti paketa [NetworkX](http://networkx.lanl.gov/index.html). Dodirna točka je klasa [Graph](http://networkx.github.io/documentation/latest/reference/classes.html) koja predstavlja neusmjereni graf."
   ]
  },
  {
   "cell_type": "code",
   "execution_count": null,
   "metadata": {},
   "outputs": [],
   "source": [
    "from networkx import Graph\n",
    "g = Graph()"
   ]
  },
  {
   "cell_type": "markdown",
   "metadata": {},
   "source": [
    "`Graph` definira:\n",
    "\n",
    "* vrhove grafa `Graph.node` -`dict` u kojem su ključevi vrhovi odnosno bilo kakvi *immutable/hashable* python objekti, a vrijednosti njihovi (opcionalni) atributi"
   ]
  },
  {
   "cell_type": "code",
   "execution_count": null,
   "metadata": {},
   "outputs": [],
   "source": [
    "g.add_nodes_from([1, 2, 3, 4, 5, 6])\n",
    "g.node"
   ]
  },
  {
   "cell_type": "markdown",
   "metadata": {},
   "source": [
    "* bridove grafa `Graph.adj` ili `Graph.edge` (isti objekt) - `dict` u kojem su ključevi vrhovi, a vrijednost za pojedini vrh je `dict` čiji su ključevi vrhovi susjedi zadanog vrha, a vrijednosti su (opcionalni) atributi brida"
   ]
  },
  {
   "cell_type": "code",
   "execution_count": null,
   "metadata": {},
   "outputs": [],
   "source": [
    "g.add_edges_from([(1, 2), (1, 3), (2, 3), (3, 4), (4, 5), (5, 6), (1, 6), (5, 2)])\n",
    "print g.edge is g.adj\n",
    "g.edge"
   ]
  },
  {
   "cell_type": "markdown",
   "metadata": {},
   "source": [
    "* razne metode za manipulaciju strukturom grafa"
   ]
  },
  {
   "cell_type": "code",
   "execution_count": null,
   "metadata": {},
   "outputs": [],
   "source": [
    "g.add_star(g.nodes())  # povezuje prvi cvor sa svim ostalima\n",
    "g.edge"
   ]
  },
  {
   "cell_type": "markdown",
   "metadata": {},
   "source": [
    "* [funkcije za iscrtavanje](http://networkx.github.io/documentation/latest/reference/drawing.html)"
   ]
  },
  {
   "cell_type": "code",
   "execution_count": null,
   "metadata": {},
   "outputs": [],
   "source": [
    "from networkx import draw_networkx\n",
    "draw_networkx(g)"
   ]
  },
  {
   "cell_type": "markdown",
   "metadata": {},
   "source": [
    "* [algoritme](http://networkx.github.io/documentation/latest/reference/algorithms.html), kao npr. [shortest_path](http://networkx.github.io/documentation/latest/reference/generated/networkx.algorithms.shortest_paths.generic.shortest_path.html)"
   ]
  },
  {
   "cell_type": "code",
   "execution_count": null,
   "metadata": {},
   "outputs": [],
   "source": [
    "from networkx.algorithms import shortest_path\n",
    "shortest_path(g, 2, 6)"
   ]
  },
  {
   "cell_type": "markdown",
   "metadata": {},
   "source": [
    "Dodatno NetworkX paket sadrži i:\n",
    "\n",
    "* druge tipove grafova (usmjereni, multigraf...) "
   ]
  },
  {
   "cell_type": "code",
   "execution_count": null,
   "metadata": {},
   "outputs": [],
   "source": [
    "from networkx import DiGraph\n",
    "dg = DiGraph([(1,2),(2,1),(1,3),(3,2)])\n",
    "draw_networkx(dg)"
   ]
  },
  {
   "cell_type": "markdown",
   "metadata": {},
   "source": [
    "* [generatore grafova](http://networkx.github.io/documentation/latest/reference/generators.html), kao npr. [hypercube_graph](http://networkx.github.io/documentation/latest/reference/generated/networkx.generators.classic.hypercube_graph.html#networkx.generators.classic.hypercube_graph)"
   ]
  },
  {
   "cell_type": "code",
   "execution_count": null,
   "metadata": {},
   "outputs": [],
   "source": [
    "from networkx.generators.classic import hypercube_graph\n",
    "hcg = hypercube_graph(3)\n",
    "draw_networkx(hcg)"
   ]
  },
  {
   "cell_type": "markdown",
   "metadata": {},
   "source": [
    " * [konvertere](http://networkx.github.io/documentation/latest/reference/convert.html) itd."
   ]
  },
  {
   "cell_type": "code",
   "execution_count": null,
   "metadata": {},
   "outputs": [],
   "source": [
    "import numpy\n",
    "mat = numpy.random.random((6, 6)) > 0.5\n",
    "print mat\n",
    "from networkx.convert_matrix import from_numpy_matrix\n",
    "g = from_numpy_matrix(mat)\n",
    "draw_networkx(g)"
   ]
  },
  {
   "cell_type": "markdown",
   "metadata": {},
   "source": [
    "### Mreža\n",
    "\n",
    "`Network` je osnovna klasa Pymote simulatora. Njene instance sadrže sve informacije potrebne kako bi se za pojedinu mrežu pokrenula ili nastavila simulacija njoj pripadajućih algoritama. Kao što je već naglašeno klasa `Network` je podklasa (podrazred) klase Graph iz paketa NetworkX. \n",
    "\n",
    "Uz sve postojeće značajke networkx grafa, Pymote u klasi `Network` proširuje mogućnosti sa slijedećim atributima i funkcionalnostima:\n",
    "\n",
    "* `Network.environment` - trenutno je omogućeno samo 2D okruženje, kroz instancu klase `Environment2D`"
   ]
  },
  {
   "cell_type": "code",
   "execution_count": null,
   "metadata": {},
   "outputs": [],
   "source": [
    "from pymote.environment import Environment2D\n",
    "o_env = Environment2D(path='images/o_shape.png')\n",
    "c_env = Environment2D(path='images/c_shape.png')\n",
    "o_net = Network(environment=o_env)\n",
    "c_net = Network(environment=c_env)\n",
    "for _ in range(100):\n",
    "    o_net.add_node()\n",
    "    c_net.add_node()\n",
    "o_net.show()\n",
    "c_net.show()"
   ]
  },
  {
   "cell_type": "markdown",
   "metadata": {},
   "source": [
    "* `Network.pos` - lokacija čvorova u okruženju"
   ]
  },
  {
   "cell_type": "markdown",
   "metadata": {},
   "source": [
    "* `Network.ori` - orijentacija čvorova u okruženju"
   ]
  },
  {
   "cell_type": "markdown",
   "metadata": {},
   "source": [
    "* `Network.algorithms` - torka algoritama: svi čvorovi izvršavaju iste algoritme, pa je mreža adekvatno mjesto za definiciju"
   ]
  },
  {
   "cell_type": "code",
   "execution_count": null,
   "metadata": {},
   "outputs": [],
   "source": [
    "net.algorithms"
   ]
  },
  {
   "cell_type": "markdown",
   "metadata": {},
   "source": [
    "* `Network.channelType` - model komunikacijskog kanala"
   ]
  },
  {
   "cell_type": "code",
   "execution_count": null,
   "metadata": {},
   "outputs": [],
   "source": [
    "net.channelType"
   ]
  },
  {
   "cell_type": "code",
   "execution_count": null,
   "metadata": {},
   "outputs": [],
   "source": [
    "from pymote.channeltype import Udg, SquareDisc\n",
    "from numpy import mean\n",
    "import matplotlib.pyplot as plt\n",
    "\n",
    "udg = Udg(net.environment)\n",
    "scd = SquareDisc(net.environment)\n",
    "udg_cr = []\n",
    "scd_cr = []\n",
    "distances = range(1, 201, 10)\n",
    "net = Network()\n",
    "node1 = net.add_node(pos=(0, 0))\n",
    "for distance in distances:\n",
    "    node2 = net.add_node(pos=[0, distance])\n",
    "    udg_cr.append(mean(map(lambda x: udg.in_comm_range(net, node1, node2), range(100))))\n",
    "    scd_cr.append(mean(map(lambda x: scd.in_comm_range(net, node1, node2), range(100))))\n",
    "plt.ylim(0, 1.1)\n",
    "plt.xlabel(\"Udaljenost\")\n",
    "plt.ylabel(\"Vjerojatnost ostvarivanja komunikacije\")\n",
    "plt.plot(distances, udg_cr)\n",
    "plt.plot(distances, scd_cr)\n"
   ]
  },
  {
   "cell_type": "markdown",
   "metadata": {},
   "source": [
    "* model komunikacije kroz `Network.outbox` i `Network.communicate()`"
   ]
  },
  {
   "cell_type": "markdown",
   "metadata": {},
   "source": [
    "Mreža je središnji objekt u Pymote paketu i ona sadrži sve potrebne informacije kako bi se rekreirao eksperiment ili sačuvali podaci za kasniju analizu. Shodno tome implementirane su metode za njeno spremanje i čitanje s diska:"
   ]
  },
  {
   "cell_type": "code",
   "execution_count": null,
   "metadata": {},
   "outputs": [],
   "source": [
    "write_pickle(net, 'mreza1.tar.gz')\n",
    "net_from_file = read_pickle('mreza1.tar.gz') \n",
    "net_from_file"
   ]
  },
  {
   "cell_type": "code",
   "execution_count": null,
   "metadata": {},
   "outputs": [],
   "source": [
    "# ukoliko je potrebno može se koristiti i\n",
    "# %debug"
   ]
  },
  {
   "cell_type": "markdown",
   "metadata": {},
   "source": [
    "### Algoritmi\n",
    "\n",
    "Pymote podržava dva tipa algoritama raspodijeljeni i centralizirani:\n",
    "\n",
    "* *Centralizirani* algoritmi se implementiraju kao podklase od `NetworkAlgorithm` i funkcioniraju po prinicipu izravnog upisivanja podataka u memoriju čvorova.\n",
    "* *Raspodijeljeni* algoritmi se implementiraju kao podklase od `NodeAlgorithm`. Raspodijeljeni algoritmi mogu koristiti samo informacije spremljene u samoj memoriji čvora te one dobivene očitanjem osjetila koje pojeduje čvor."
   ]
  },
  {
   "cell_type": "markdown",
   "metadata": {},
   "source": [
    "### Čvorovi\n",
    "\n",
    "Čvorovi su instance klase `Node` koja između ostalog implementira slijedeće atribute i metode:\n",
    "\n",
    "* `memory` - `dict` u kojem čvor čuva cjelokupno znanje koje može prikupiti na dva načina:\n",
    " * očitanje osjetila - npr. polje `Neighbors` u algoritmu `Flood`\n",
    " * informacije u primljenim porukama - npr. polje `I` u algoritmu `Flood`"
   ]
  },
  {
   "cell_type": "code",
   "execution_count": null,
   "metadata": {},
   "outputs": [],
   "source": [
    "# some_node je cvor iz mreze u kojoj je izvrsen algoritam Flood\n",
    "some_node.memory['Neighbors']"
   ]
  },
  {
   "cell_type": "code",
   "execution_count": null,
   "metadata": {},
   "outputs": [],
   "source": [
    "some_node.memory['I']"
   ]
  },
  {
   "cell_type": "markdown",
   "metadata": {},
   "source": [
    "* `status` - registar u memoriji s posebnim značenjem za raspodijeljene algoritme implementiran je kao poseban atribut"
   ]
  },
  {
   "cell_type": "code",
   "execution_count": null,
   "metadata": {},
   "outputs": [],
   "source": [
    "some_node.status"
   ]
  },
  {
   "cell_type": "markdown",
   "metadata": {},
   "source": [
    "* `commRange` - komunikacijski domet čvora: u kombinaciji s pozicijom, okruženjem i modelom kominikacijskog kanala određuje susjede pojedinog čvora"
   ]
  },
  {
   "cell_type": "code",
   "execution_count": null,
   "metadata": {},
   "outputs": [],
   "source": [
    "some_node.commRange"
   ]
  },
  {
   "cell_type": "markdown",
   "metadata": {},
   "source": [
    "* `outbox` i `_inbox` - liste u kojima su spremeljene poruke (instance klase `Message`) spremene za slanje odnosno primljene poruke\n",
    "* `send()` - metoda za slanje poruka drugim čvorovima\n",
    "* `compositeSensor` - predstavlja torku osjetila koji su instalirani na čvoru te implementira metodu `read()` koja vraća `dict` s ključevima koji odgovaraju pojedinom osjetilu, a vrijednosti su njihova trenutna očitanja"
   ]
  },
  {
   "cell_type": "code",
   "execution_count": null,
   "metadata": {},
   "outputs": [],
   "source": [
    "print some_node.compositeSensor\n",
    "print some_node.compositeSensor.sensors\n",
    "some_node.compositeSensor.read()"
   ]
  },
  {
   "cell_type": "markdown",
   "metadata": {},
   "source": [
    "### Osjetila\n",
    "\n",
    "Osjetila predstavljaju sučelje čvora prema okolini. Impelentirani su kao podklase apstraktne klase `Sensor`. Implementiraju metodu `read()` koja u ovisnosti o osjetilu može svoje podatke dobiti uvidom u mrežu odnosno okruženje."
   ]
  },
  {
   "cell_type": "code",
   "execution_count": null,
   "metadata": {},
   "outputs": [],
   "source": [
    "from pymote.sensor import TruePosSensor\n",
    "new_net = Network()\n",
    "\n",
    "node = new_net.add_node(pos=[100, 100])\n",
    "node.compositeSensor = (TruePosSensor, 'DistSensor')\n",
    "\n",
    "new_net.add_node(pos=[170, 170])\n",
    "node.compositeSensor.read()"
   ]
  },
  {
   "cell_type": "markdown",
   "metadata": {},
   "source": [
    "Zgodno je primjetiti kako je prvo osjetilo pridruženo kao klasa, a drugo samo imenom klase. I jedna i druga opcija su moguće."
   ]
  },
  {
   "cell_type": "markdown",
   "metadata": {},
   "source": [
    "Pojedino osjetilo može implementirati atribut `probabilityFunction` koji mu omogućava 'zašumljivanje' dobivenih podataka kako bi očitanje bilo bliže realnom očitanju koje je u većini slučajeva podložno manjim ili većim mjernim nesigurnostima."
   ]
  },
  {
   "cell_type": "code",
   "execution_count": null,
   "metadata": {},
   "outputs": [],
   "source": [
    "dist_sensor = node.compositeSensor.sensors[0]\n",
    "dist_sensor.probabilityFunction.pf"
   ]
  },
  {
   "cell_type": "code",
   "execution_count": null,
   "metadata": {},
   "outputs": [],
   "source": [
    "distances = []\n",
    "for i in range(1000):\n",
    "    distances.append(node.compositeSensor.read()['Dist'].values()[0])\n",
    "h = plt.hist(distances,bins=30)"
   ]
  },
  {
   "cell_type": "markdown",
   "metadata": {},
   "source": [
    "Osjetila koje određeni čvor posjeduje mogu promijeniti njegovu ulogu unutar pojeding algoritma. Primjerice kod algoritma lokalizacije čvor s `TruePos` osjetilom predstavlja sidro.\n",
    "\n",
    "Osjetila služe i kako bi se implementirala određene pretpostavke, nazvane još i ograničenja algoritma. Primjerice, ukoliko algoritam zahtijeva za svaki čvor poznavanje svojih susjeda tada se u svakom čvoru postavlja osjetilo `NeighborsSensor` čijim očitanjem čvor u svakom trenutku može 'očitati' svoje susjede."
   ]
  },
  {
   "cell_type": "markdown",
   "metadata": {},
   "source": [
    "### Simulacija"
   ]
  },
  {
   "cell_type": "markdown",
   "metadata": {},
   "source": [
    "Klasa `Simulation` se brine za izvršavanje algoritma u pripadajućoj mreži `Simulation.network`.\n",
    "\n",
    "Između ostalog, brine se i za osvježavanje grafičkog sučelja simulatora. \n",
    "\n",
    "<!--- Definirana je kao dretva (*thread*) odnosno podklasa od klase `QtCore.QThread` paketa Pyside.\n",
    "-->"
   ]
  },
  {
   "cell_type": "markdown",
   "metadata": {},
   "source": [
    "### Postavke"
   ]
  },
  {
   "cell_type": "markdown",
   "metadata": {},
   "source": [
    "Kako bi rad u interaktivnoj konzoli, grafičkom sučelji ili u automatiziranim eksperimentima bio olakšan potrebno je preddefinirati određene vrijednosti. Takve vrijednosti definiraju se u postavkama `pymote.conf.settings`.\n",
    "\n",
    "Trenutne globalne postavke:"
   ]
  },
  {
   "cell_type": "code",
   "execution_count": null,
   "metadata": {},
   "outputs": [],
   "source": [
    "\"\"\"Default pymote settings.\n",
    "\n",
    "Override these with settings in the module pointed-to by the \n",
    "PYMOTE_SETTINGS_MODULE environment variable or by using \n",
    "settings.configure(**settings) or settings.load('path.to.settings')\n",
    "\n",
    "\"\"\"\n",
    "\n",
    "import scipy.stats \n",
    "from numpy import pi\n",
    "\n",
    "###########\n",
    "# NETWORK #\n",
    "###########\n",
    "ENVIRONMENT = 'Environment2D'\n",
    "ENVIRONMENT2D_SHAPE = (600,600)\n",
    "\n",
    "\n",
    "ALGORITHMS = ()\n",
    "#ALGORITHMS = ((ReadSensors,\n",
    "#               {'sensorReadingsKey':'sensorReadings'}),\n",
    "#              )\n",
    "\n",
    "CHANNEL_TYPE = 'Udg'\n",
    "\n",
    "\n",
    "\n",
    "\n",
    "##########\n",
    "#  NODE  #\n",
    "##########\n",
    "SENSORS = ('NeighborsSensor', )\n",
    "#SENSORS = ('AoASensor','DistSensor')\n",
    "ACTUATORS = ()\n",
    "COMM_RANGE = 100\n",
    "\n",
    "AOA_PF_PARAMS = {'pf': scipy.stats.norm,\n",
    "                 'scale':10*pi/180} # in radians\n",
    "DIST_PF_PARAMS = {'pf': scipy.stats.norm,\n",
    "                 'scale':10}\n"
   ]
  },
  {
   "cell_type": "markdown",
   "metadata": {},
   "source": [
    "Postavke se mogu promijeniti odnosno prepisati (*override*-ati) na nekoliko načina:\n",
    "\n",
    "* pisanjem novog modula settings.py na kojeg se referencira *environment* varijabla `PYMOTE_SETTINGS_MODULE` u npr. `paket.podpaket.settings`\n",
    "* prije prvog korištenja postavki one se mogu promijeniti korištenjem `settings.configure(**settings)` ili\n",
    "* korištenjem `settings.load('paket.podpaket.settings')` u bilo kojem trenutku"
   ]
  },
  {
   "cell_type": "markdown",
   "metadata": {},
   "source": [
    "## GUI\n",
    "\n",
    "Grafičko sučelje simulatora pokreće se:\n",
    "\n",
    "1. u *standalone* verziji korištenjem instaliranog programa `pymote-simgui`\n",
    "2. iz interaktivne konzole sa `%run pymote/gui/simulationgui.py`\n",
    "\n",
    "Prednost druge metode je u tome što se paralelno sa sučeljem u konzoli može pristupiti svim objektima koristeći objekt `simgui` npr. `simgui.net` predstavlja mrežu koja je trenutno u sučelju."
   ]
  }
 ],
 "metadata": {
  "kernelspec": {
   "display_name": "Python 3 (ipykernel)",
   "language": "python",
   "name": "python3"
  },
  "language_info": {
   "codemirror_mode": {
    "name": "ipython",
    "version": 3
   },
   "file_extension": ".py",
   "mimetype": "text/x-python",
   "name": "python",
   "nbconvert_exporter": "python",
   "pygments_lexer": "ipython3",
   "version": "3.9.10"
  }
 },
 "nbformat": 4,
 "nbformat_minor": 1
}
