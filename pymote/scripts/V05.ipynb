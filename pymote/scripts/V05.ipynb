{
 "cells": [
  {
   "cell_type": "code",
   "execution_count": 1,
   "metadata": {
    "collapsed": true
   },
   "outputs": [],
   "source": [
    "%load_ext autoreload\n",
    "%autoreload 2\n",
    "\n",
    "%matplotlib inline"
   ]
  },
  {
   "cell_type": "code",
   "execution_count": 2,
   "metadata": {
    "collapsed": false
   },
   "outputs": [
    {
     "name": "stdout",
     "output_type": "stream",
     "text": [
      "WARNING [__init__.py]: Environment variable PYMOTE_SETTINGS_MODULE is undefined, using global_settings.\n"
     ]
    },
    {
     "name": "stderr",
     "output_type": "stream",
     "text": [
      "WARNING:pymote:Environment variable PYMOTE_SETTINGS_MODULE is undefined, using global_settings.\n",
      "C:\\Users\\Krepana Krava\\Documents\\WinPython-64bit-2.7.10.3\\python-2.7.10.amd64\\lib\\site-packages\\matplotlib\\figure.py:397: UserWarning: matplotlib is currently using a non-GUI backend, so cannot show the figure\n",
      "  \"matplotlib is currently using a non-GUI backend, \"\n"
     ]
    },
    {
     "data": {
      "image/png": "[encoded data removed]",
      "text/plain": [
       "<matplotlib.figure.Figure at 0x3cd7b7f0>"
      ]
     },
     "metadata": {},
     "output_type": "display_data"
    }
   ],
   "source": [
    "from pymote import Node\n",
    "from pymote import Network\n",
    "\n",
    "# Reseting numbering\n",
    "Node.cid = 1\n",
    "\n",
    "# Creating network\n",
    "net = Network()\n",
    "\n",
    "# Adding nodes\n",
    "n1 = net.add_node(pos=(100, 300), commRange=0)\n",
    "n2 = net.add_node(pos=(200, 200), commRange=0)\n",
    "n3 = net.add_node(pos=(200, 400), commRange=0)\n",
    "n4 = net.add_node(pos=(400, 200), commRange=0)\n",
    "n5 = net.add_node(pos=(400, 400), commRange=0)\n",
    "n6 = net.add_node(pos=(500, 300), commRange=0)\n",
    "n7 = net.add_node(pos=(550, 450), commRange=0)\n",
    "\n",
    "# Adding weighted edges\n",
    "net.add_weighted_edges_from([\n",
    "    (n1, n2, 10),\n",
    "    (n1, n3, 1),\n",
    "    (n2, n4, 2),\n",
    "    (n3, n5, 3),\n",
    "    (n1, n6, 5),\n",
    "    (n4, n6, 8),\n",
    "    (n5, n6, 3),\n",
    "    (n5, n7, 5),\n",
    "    (n6, n7, 3)\n",
    "])\n",
    "\n",
    "net.show()"
   ]
  },
  {
   "cell_type": "code",
   "execution_count": 5,
   "metadata": {
    "collapsed": false
   },
   "outputs": [
    {
     "name": "stdout",
     "output_type": "stream",
     "text": [
      "DEBUG   [simulation.py]: Simulation 0x3dec62c8L created successfully.\n"
     ]
    },
    {
     "name": "stderr",
     "output_type": "stream",
     "text": [
      "DEBUG:pymote.simulation:Simulation 0x3dec62c8L created successfully.\n"
     ]
    },
    {
     "name": "stdout",
     "output_type": "stream",
     "text": [
      "DEBUG   [simulation.py]: [PTConstruction] Step 1 finished\n"
     ]
    },
    {
     "name": "stderr",
     "output_type": "stream",
     "text": [
      "DEBUG:pymote.simulation:[PTConstruction] Step 1 finished\n"
     ]
    },
    {
     "name": "stdout",
     "output_type": "stream",
     "text": [
      "DEBUG   [simulation.py]: [PTConstruction] Step 2 finished\n"
     ]
    },
    {
     "name": "stderr",
     "output_type": "stream",
     "text": [
      "DEBUG:pymote.simulation:[PTConstruction] Step 2 finished\n"
     ]
    },
    {
     "name": "stdout",
     "output_type": "stream",
     "text": [
      "DEBUG   [simulation.py]: [PTConstruction] Algorithm finished\n"
     ]
    },
    {
     "name": "stderr",
     "output_type": "stream",
     "text": [
      "DEBUG:pymote.simulation:[PTConstruction] Algorithm finished\n"
     ]
    },
    {
     "name": "stdout",
     "output_type": "stream",
     "text": [
      "INFO    [simulation.py]: Simulation has finished. There are no algorithms left to run. To run it from the start use sim.reset().\n"
     ]
    },
    {
     "name": "stderr",
     "output_type": "stream",
     "text": [
      "INFO:pymote.simulation:Simulation has finished. There are no algorithms left to run. To run it from the start use sim.reset().\n"
     ]
    },
    {
     "name": "stdout",
     "output_type": "stream",
     "text": [
      "(1, 'INITIATOR')\n",
      "(2, 'IDLE')\n",
      "(3, 'IDLE')\n",
      "(4, 'IDLE')\n",
      "(5, 'IDLE')\n",
      "(6, 'IDLE')\n",
      "(7, 'IDLE')\n"
     ]
    }
   ],
   "source": [
    "from pymote import NetworkGenerator\n",
    "from pymote import write_pickle\n",
    "from pymote import Simulation\n",
    "from pymote.bmo.algorithms.routing import PTConstruction\n",
    "\n",
    "net.algorithms = (PTConstruction, )\n",
    "\n",
    "write_pickle(net, \"net.npc.gz\")\n",
    "\n",
    "sim = Simulation(net)\n",
    "sim.run()\n",
    "\n",
    "for n in net.nodes():\n",
    "    print(n.id, n.status)"
   ]
  },
  {
   "cell_type": "code",
   "execution_count": 6,
   "metadata": {
    "collapsed": false
   },
   "outputs": [
    {
     "name": "stdout",
     "output_type": "stream",
     "text": [
      "Edges:\n",
      "(<Node id=3>, <Node id=1>, {'weight': 1})\n",
      "(<Node id=3>, <Node id=5>, {'weight': 3})\n",
      "(<Node id=4>, <Node id=2>, {'weight': 2})\n",
      "(<Node id=4>, <Node id=6>, {'weight': 8})\n",
      "(<Node id=1>, <Node id=2>, {'weight': 10})\n",
      "(<Node id=1>, <Node id=6>, {'weight': 5})\n",
      "(<Node id=5>, <Node id=7>, {'weight': 5})\n",
      "(<Node id=5>, <Node id=6>, {'weight': 3})\n",
      "(<Node id=7>, <Node id=6>, {'weight': 3})\n",
      "Nodes:\n",
      "(1, {<Node id=3>: 1, <Node id=2>: 10, <Node id=6>: 5})\n",
      "(2, {<Node id=1>: 10, <Node id=4>: 2})\n",
      "(3, {<Node id=1>: 1, <Node id=5>: 3})\n",
      "(4, {<Node id=2>: 2, <Node id=6>: 8})\n",
      "(5, {<Node id=3>: 3, <Node id=7>: 5, <Node id=6>: 3})\n",
      "(6, {<Node id=1>: 5, <Node id=4>: 8, <Node id=7>: 3, <Node id=5>: 3})\n",
      "(7, {<Node id=5>: 5, <Node id=6>: 3})\n"
     ]
    }
   ],
   "source": [
    "print(\"Edges:\")\n",
    "for e in net.edges(data=True):\n",
    "    print(e)\n",
    "    \n",
    "print(\"Nodes:\")\n",
    "for n in net.nodes():\n",
    "    print(n.id, n.memory['weight'])"
   ]
  },
  {
   "cell_type": "code",
   "execution_count": null,
   "metadata": {
    "collapsed": true
   },
   "outputs": [],
   "source": []
  }
 ],
 "metadata": {
  "kernelspec": {
   "display_name": "Python 2",
   "language": "python",
   "name": "python2"
  },
  "language_info": {
   "codemirror_mode": {
    "name": "ipython",
    "version": 2
   },
   "file_extension": ".py",
   "mimetype": "text/x-python",
   "name": "python",
   "nbconvert_exporter": "python",
   "pygments_lexer": "ipython2",
   "version": "2.7.10"
  }
 },
 "nbformat": 4,
 "nbformat_minor": 2
}
