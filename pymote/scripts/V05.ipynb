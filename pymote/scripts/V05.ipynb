{
 "cells": [
  {
   "cell_type": "code",
   "execution_count": 3,
   "metadata": {},
   "outputs": [],
   "source": [
    "import sys\n",
    "sys.path\n",
    "sys.path.append('C:\\\\Users\\\\Krepana Krava\\\\Documents\\\\Winpython64-3.9.10\\\\WPy64-39100\\\\python-3.9.10.amd64\\\\src\\\\pymote39')\n",
    "sys.path.append('C:\\\\Users\\\\Krepana Krava\\\\Documents\\\\Winpython64-3.9.10\\\\WPy64-39100\\\\python-3.9.10.amd64\\\\Lib\\\\site-packages')"
   ]
  },
  {
   "cell_type": "code",
   "execution_count": 4,
   "metadata": {},
   "outputs": [
    {
     "name": "stdout",
     "output_type": "stream",
     "text": [
      "The autoreload extension is already loaded. To reload it, use:\n",
      "  %reload_ext autoreload\n"
     ]
    }
   ],
   "source": [
    "%load_ext autoreload\n",
    "%autoreload 2\n",
    "\n",
    "%matplotlib inline"
   ]
  },
  {
   "cell_type": "code",
   "execution_count": 5,
   "metadata": {},
   "outputs": [
    {
     "name": "stdout",
     "output_type": "stream",
     "text": [
      "Environment2D\n",
      "WARNING [__init__.py]: Environment variable PYMOTE_SETTINGS_MODULE is undefined, using global_settings.\n",
      "Node 1 is placed on position (100, 300).\n",
      "Node 2 is placed on position (200, 200).\n",
      "Node 3 is placed on position (200, 400).\n",
      "Node 4 is placed on position (400, 200).\n",
      "Node 5 is placed on position (400, 400).\n",
      "Node 6 is placed on position (500, 300).\n",
      "Node 7 is placed on position (550, 450).\n"
     ]
    },
    {
     "name": "stderr",
     "output_type": "stream",
     "text": [
      "C:\\Users\\Krepana Krava\\Documents\\Winpython64-3.9.10\\WPy64-39100\\python-3.9.10.amd64\\src\\pymote39\\pymote\\network.py:212: UserWarning: Matplotlib is currently using module://matplotlib_inline.backend_inline, which is a non-GUI backend, so cannot show the figure.\n",
      "  fig.show()\n"
     ]
    },
    {
     "data": {
      "image/png": "[encoded data removed]",
      "text/plain": [
       "<Figure size 600x600 with 1 Axes>"
      ]
     },
     "metadata": {},
     "output_type": "display_data"
    }
   ],
   "source": [
    "from pymote import Node\n",
    "from pymote import Network\n",
    "\n",
    "# Reseting numbering\n",
    "Node.cid = 1\n",
    "\n",
    "# Creating network\n",
    "net = Network()\n",
    "\n",
    "# Adding nodes\n",
    "n1 = net.add_node(pos=(100, 300), commRange=0)\n",
    "n2 = net.add_node(pos=(200, 200), commRange=0)\n",
    "n3 = net.add_node(pos=(200, 400), commRange=0)\n",
    "n4 = net.add_node(pos=(400, 200), commRange=0)\n",
    "n5 = net.add_node(pos=(400, 400), commRange=0)\n",
    "n6 = net.add_node(pos=(500, 300), commRange=0)\n",
    "n7 = net.add_node(pos=(550, 450), commRange=0)\n",
    "\n",
    "# Adding weighted edges\n",
    "net.add_weighted_edges_from([\n",
    "    (n1, n2, 10),\n",
    "    (n1, n3, 1),\n",
    "    (n2, n4, 2),\n",
    "    (n3, n5, 3),\n",
    "    (n1, n6, 5),\n",
    "    (n4, n6, 8),\n",
    "    (n5, n6, 3),\n",
    "    (n5, n7, 5),\n",
    "    (n6, n7, 3)\n",
    "])\n",
    "\n",
    "net.show()"
   ]
  },
  {
   "cell_type": "code",
   "execution_count": 8,
   "metadata": {},
   "outputs": [
    {
     "name": "stdout",
     "output_type": "stream",
     "text": [
      "DEBUG   [simulation.py]: Simulation 0x23a51875a00 created successfully.\n",
      "DEBUG   [simulation.py]: [PTConstruction] Step 1 finished\n",
      "DEBUG   [simulation.py]: [PTConstruction] Step 2 finished\n",
      "DEBUG   [simulation.py]: [PTConstruction] Algorithm finished\n",
      "INFO    [simulation.py]: Simulation has finished. There are no algorithms left to run. To run it from the start use sim.reset().\n",
      "1 INITIATOR\n",
      "2 IDLE\n",
      "3 IDLE\n",
      "4 IDLE\n",
      "5 IDLE\n",
      "6 IDLE\n",
      "7 IDLE\n"
     ]
    }
   ],
   "source": [
    "from pymote import NetworkGenerator\n",
    "from pymote import write_pickle\n",
    "from pymote import Simulation\n",
    "from pymote.bmo.algorithms.routing import PTConstruction\n",
    "\n",
    "net.algorithms = (PTConstruction, )\n",
    "\n",
    "write_pickle(net, \"net.npc.gz\")\n",
    "\n",
    "sim = Simulation(net)\n",
    "sim.run()\n",
    "\n",
    "for n in net.nodes_list():\n",
    "    print(n.id, n.status)"
   ]
  },
  {
   "cell_type": "code",
   "execution_count": 9,
   "metadata": {},
   "outputs": [
    {
     "name": "stdout",
     "output_type": "stream",
     "text": [
      "Edges:\n",
      "(<Node id=1>, <Node id=2>, {'weight': 10})\n",
      "(<Node id=1>, <Node id=3>, {'weight': 1})\n",
      "(<Node id=1>, <Node id=6>, {'weight': 5})\n",
      "(<Node id=2>, <Node id=4>, {'weight': 2})\n",
      "(<Node id=3>, <Node id=5>, {'weight': 3})\n",
      "(<Node id=4>, <Node id=6>, {'weight': 8})\n",
      "(<Node id=5>, <Node id=6>, {'weight': 3})\n",
      "(<Node id=5>, <Node id=7>, {'weight': 5})\n",
      "(<Node id=6>, <Node id=7>, {'weight': 3})\n",
      "Nodes:\n",
      "1 {<Node id=2>: 10, <Node id=3>: 1, <Node id=6>: 5}\n",
      "2 {<Node id=1>: 10, <Node id=4>: 2}\n",
      "3 {<Node id=1>: 1, <Node id=5>: 3}\n",
      "4 {<Node id=2>: 2, <Node id=6>: 8}\n",
      "5 {<Node id=3>: 3, <Node id=6>: 3, <Node id=7>: 5}\n",
      "6 {<Node id=1>: 5, <Node id=4>: 8, <Node id=5>: 3, <Node id=7>: 3}\n",
      "7 {<Node id=5>: 5, <Node id=6>: 3}\n"
     ]
    }
   ],
   "source": [
    "print(\"Edges:\")\n",
    "for e in net.edges(data=True):\n",
    "    print(e)\n",
    "    \n",
    "print(\"Nodes:\")\n",
    "for n in net.nodes():\n",
    "    print(n.id, n.memory['weight'])"
   ]
  },
  {
   "cell_type": "code",
   "execution_count": null,
   "metadata": {},
   "outputs": [],
   "source": []
  }
 ],
 "metadata": {
  "kernelspec": {
   "display_name": "Python 3 (ipykernel)",
   "language": "python",
   "name": "python3"
  },
  "language_info": {
   "codemirror_mode": {
    "name": "ipython",
    "version": 3
   },
   "file_extension": ".py",
   "mimetype": "text/x-python",
   "name": "python",
   "nbconvert_exporter": "python",
   "pygments_lexer": "ipython3",
   "version": "3.9.10"
  }
 },
 "nbformat": 4,
 "nbformat_minor": 2
}
